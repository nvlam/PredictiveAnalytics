{
 "cells": [
  {
   "cell_type": "code",
   "execution_count": 2,
   "metadata": {},
   "outputs": [],
   "source": [
    "#importing useful libraries\n",
    "\n",
    "import numpy as np\n",
    "import matplotlib.pyplot as plt\n",
    "import pandas as pd"
   ]
  },
  {
   "cell_type": "code",
   "execution_count": null,
   "metadata": {},
   "outputs": [],
   "source": [
    "#Reading data\n",
    "#from crime_dataset_headers import *\n",
    "#data_url='https://archive.ics.uci.edu/ml/machine-learning-databases/communities/communities.data'\n",
    "#crime=pd.read_csv(data_url, header=None, mames=headers, na_values='?', index_col='communityname')"
   ]
  },
  {
   "cell_type": "code",
   "execution_count": 8,
   "metadata": {
    "scrolled": true
   },
   "outputs": [],
   "source": [
    "#Change path to the file when needed.\n",
    "df=pd.read_csv('/Users/lam/PredictiveAnalytics/EngineeringTest/POS_data_2018.csv')"
   ]
  },
  {
   "cell_type": "code",
   "execution_count": 57,
   "metadata": {},
   "outputs": [
    {
     "data": {
      "text/html": [
       "<div>\n",
       "<style scoped>\n",
       "    .dataframe tbody tr th:only-of-type {\n",
       "        vertical-align: middle;\n",
       "    }\n",
       "\n",
       "    .dataframe tbody tr th {\n",
       "        vertical-align: top;\n",
       "    }\n",
       "\n",
       "    .dataframe thead th {\n",
       "        text-align: right;\n",
       "    }\n",
       "</style>\n",
       "<table border=\"1\" class=\"dataframe\">\n",
       "  <thead>\n",
       "    <tr style=\"text-align: right;\">\n",
       "      <th></th>\n",
       "      <th>Unnamed: 0</th>\n",
       "      <th>kind</th>\n",
       "      <th>invoice_closed</th>\n",
       "      <th>invoice_opened</th>\n",
       "      <th>guests</th>\n",
       "      <th>group</th>\n",
       "      <th>invoice</th>\n",
       "      <th>cancellation</th>\n",
       "      <th>ticket</th>\n",
       "      <th>table</th>\n",
       "      <th>time</th>\n",
       "      <th>article_number</th>\n",
       "    </tr>\n",
       "  </thead>\n",
       "  <tbody>\n",
       "    <tr>\n",
       "      <th>0</th>\n",
       "      <td>0</td>\n",
       "      <td>Pasta</td>\n",
       "      <td>2017-12-31 12:21:00</td>\n",
       "      <td>2017-12-31 11:52:00</td>\n",
       "      <td>2</td>\n",
       "      <td>Essen</td>\n",
       "      <td>3790</td>\n",
       "      <td>0</td>\n",
       "      <td>2289</td>\n",
       "      <td>101/1</td>\n",
       "      <td>2017-12-31 11:52:00</td>\n",
       "      <td>206</td>\n",
       "    </tr>\n",
       "    <tr>\n",
       "      <th>1</th>\n",
       "      <td>1</td>\n",
       "      <td>Pasta</td>\n",
       "      <td>2017-12-31 12:21:00</td>\n",
       "      <td>2017-12-31 11:52:00</td>\n",
       "      <td>2</td>\n",
       "      <td>Speisen</td>\n",
       "      <td>3790</td>\n",
       "      <td>0</td>\n",
       "      <td>2289</td>\n",
       "      <td>101/1</td>\n",
       "      <td>2017-12-31 11:52:00</td>\n",
       "      <td>213</td>\n",
       "    </tr>\n",
       "    <tr>\n",
       "      <th>2</th>\n",
       "      <td>2</td>\n",
       "      <td>Limonaden</td>\n",
       "      <td>2017-12-31 12:21:00</td>\n",
       "      <td>2017-12-31 11:52:00</td>\n",
       "      <td>2</td>\n",
       "      <td>Getränke</td>\n",
       "      <td>3790</td>\n",
       "      <td>0</td>\n",
       "      <td>2289</td>\n",
       "      <td>101/1</td>\n",
       "      <td>2017-12-31 11:52:00</td>\n",
       "      <td>56</td>\n",
       "    </tr>\n",
       "    <tr>\n",
       "      <th>3</th>\n",
       "      <td>3</td>\n",
       "      <td>Undefiniert</td>\n",
       "      <td>2017-12-31 12:21:00</td>\n",
       "      <td>2017-12-31 11:52:00</td>\n",
       "      <td>2</td>\n",
       "      <td>Undefiniert</td>\n",
       "      <td>3790</td>\n",
       "      <td>0</td>\n",
       "      <td>2289</td>\n",
       "      <td>101/1</td>\n",
       "      <td>2017-12-31 11:52:00</td>\n",
       "      <td>262</td>\n",
       "    </tr>\n",
       "    <tr>\n",
       "      <th>4</th>\n",
       "      <td>4</td>\n",
       "      <td>Weisswein offen</td>\n",
       "      <td>2017-12-31 13:20:00</td>\n",
       "      <td>2017-12-31 12:18:00</td>\n",
       "      <td>5</td>\n",
       "      <td>Getränke</td>\n",
       "      <td>3794</td>\n",
       "      <td>0</td>\n",
       "      <td>2292</td>\n",
       "      <td>116/1</td>\n",
       "      <td>2017-12-31 12:18:00</td>\n",
       "      <td>334</td>\n",
       "    </tr>\n",
       "  </tbody>\n",
       "</table>\n",
       "</div>"
      ],
      "text/plain": [
       "   Unnamed: 0             kind       invoice_closed       invoice_opened  \\\n",
       "0           0            Pasta  2017-12-31 12:21:00  2017-12-31 11:52:00   \n",
       "1           1            Pasta  2017-12-31 12:21:00  2017-12-31 11:52:00   \n",
       "2           2        Limonaden  2017-12-31 12:21:00  2017-12-31 11:52:00   \n",
       "3           3      Undefiniert  2017-12-31 12:21:00  2017-12-31 11:52:00   \n",
       "4           4  Weisswein offen  2017-12-31 13:20:00  2017-12-31 12:18:00   \n",
       "\n",
       "   guests        group  invoice  cancellation  ticket  table  \\\n",
       "0       2        Essen     3790             0    2289  101/1   \n",
       "1       2      Speisen     3790             0    2289  101/1   \n",
       "2       2    Getränke      3790             0    2289  101/1   \n",
       "3       2  Undefiniert     3790             0    2289  101/1   \n",
       "4       5    Getränke      3794             0    2292  116/1   \n",
       "\n",
       "                  time  article_number  \n",
       "0  2017-12-31 11:52:00             206  \n",
       "1  2017-12-31 11:52:00             213  \n",
       "2  2017-12-31 11:52:00              56  \n",
       "3  2017-12-31 11:52:00             262  \n",
       "4  2017-12-31 12:18:00             334  "
      ]
     },
     "execution_count": 57,
     "metadata": {},
     "output_type": "execute_result"
    }
   ],
   "source": [
    "df.head()"
   ]
  },
  {
   "cell_type": "code",
   "execution_count": 60,
   "metadata": {},
   "outputs": [],
   "source": [
    "df['invoice_closed']=pd.to_datetime(df['invoice_closed'])\n",
    "df['invoice_opened']=pd.to_datetime(df['invoice_opened'])\n",
    "df['time']=pd.to_datetime(df['time'])"
   ]
  },
  {
   "cell_type": "code",
   "execution_count": 61,
   "metadata": {},
   "outputs": [
    {
     "data": {
      "text/html": [
       "<div>\n",
       "<style scoped>\n",
       "    .dataframe tbody tr th:only-of-type {\n",
       "        vertical-align: middle;\n",
       "    }\n",
       "\n",
       "    .dataframe tbody tr th {\n",
       "        vertical-align: top;\n",
       "    }\n",
       "\n",
       "    .dataframe thead th {\n",
       "        text-align: right;\n",
       "    }\n",
       "</style>\n",
       "<table border=\"1\" class=\"dataframe\">\n",
       "  <thead>\n",
       "    <tr style=\"text-align: right;\">\n",
       "      <th></th>\n",
       "      <th>Unnamed: 0</th>\n",
       "      <th>kind</th>\n",
       "      <th>invoice_closed</th>\n",
       "      <th>invoice_opened</th>\n",
       "      <th>guests</th>\n",
       "      <th>group</th>\n",
       "      <th>invoice</th>\n",
       "      <th>cancellation</th>\n",
       "      <th>ticket</th>\n",
       "      <th>table</th>\n",
       "      <th>time</th>\n",
       "      <th>article_number</th>\n",
       "    </tr>\n",
       "  </thead>\n",
       "  <tbody>\n",
       "    <tr>\n",
       "      <th>0</th>\n",
       "      <td>0</td>\n",
       "      <td>Pasta</td>\n",
       "      <td>2017-12-31 12:21:00</td>\n",
       "      <td>2017-12-31 11:52:00</td>\n",
       "      <td>2</td>\n",
       "      <td>Essen</td>\n",
       "      <td>3790</td>\n",
       "      <td>0</td>\n",
       "      <td>2289</td>\n",
       "      <td>101/1</td>\n",
       "      <td>2017-12-31 11:52:00</td>\n",
       "      <td>206</td>\n",
       "    </tr>\n",
       "    <tr>\n",
       "      <th>1</th>\n",
       "      <td>1</td>\n",
       "      <td>Pasta</td>\n",
       "      <td>2017-12-31 12:21:00</td>\n",
       "      <td>2017-12-31 11:52:00</td>\n",
       "      <td>2</td>\n",
       "      <td>Speisen</td>\n",
       "      <td>3790</td>\n",
       "      <td>0</td>\n",
       "      <td>2289</td>\n",
       "      <td>101/1</td>\n",
       "      <td>2017-12-31 11:52:00</td>\n",
       "      <td>213</td>\n",
       "    </tr>\n",
       "    <tr>\n",
       "      <th>2</th>\n",
       "      <td>2</td>\n",
       "      <td>Limonaden</td>\n",
       "      <td>2017-12-31 12:21:00</td>\n",
       "      <td>2017-12-31 11:52:00</td>\n",
       "      <td>2</td>\n",
       "      <td>Getränke</td>\n",
       "      <td>3790</td>\n",
       "      <td>0</td>\n",
       "      <td>2289</td>\n",
       "      <td>101/1</td>\n",
       "      <td>2017-12-31 11:52:00</td>\n",
       "      <td>56</td>\n",
       "    </tr>\n",
       "    <tr>\n",
       "      <th>3</th>\n",
       "      <td>3</td>\n",
       "      <td>Undefiniert</td>\n",
       "      <td>2017-12-31 12:21:00</td>\n",
       "      <td>2017-12-31 11:52:00</td>\n",
       "      <td>2</td>\n",
       "      <td>Undefiniert</td>\n",
       "      <td>3790</td>\n",
       "      <td>0</td>\n",
       "      <td>2289</td>\n",
       "      <td>101/1</td>\n",
       "      <td>2017-12-31 11:52:00</td>\n",
       "      <td>262</td>\n",
       "    </tr>\n",
       "    <tr>\n",
       "      <th>4</th>\n",
       "      <td>4</td>\n",
       "      <td>Weisswein offen</td>\n",
       "      <td>2017-12-31 13:20:00</td>\n",
       "      <td>2017-12-31 12:18:00</td>\n",
       "      <td>5</td>\n",
       "      <td>Getränke</td>\n",
       "      <td>3794</td>\n",
       "      <td>0</td>\n",
       "      <td>2292</td>\n",
       "      <td>116/1</td>\n",
       "      <td>2017-12-31 12:18:00</td>\n",
       "      <td>334</td>\n",
       "    </tr>\n",
       "  </tbody>\n",
       "</table>\n",
       "</div>"
      ],
      "text/plain": [
       "   Unnamed: 0             kind      invoice_closed      invoice_opened  \\\n",
       "0           0            Pasta 2017-12-31 12:21:00 2017-12-31 11:52:00   \n",
       "1           1            Pasta 2017-12-31 12:21:00 2017-12-31 11:52:00   \n",
       "2           2        Limonaden 2017-12-31 12:21:00 2017-12-31 11:52:00   \n",
       "3           3      Undefiniert 2017-12-31 12:21:00 2017-12-31 11:52:00   \n",
       "4           4  Weisswein offen 2017-12-31 13:20:00 2017-12-31 12:18:00   \n",
       "\n",
       "   guests        group  invoice  cancellation  ticket  table  \\\n",
       "0       2        Essen     3790             0    2289  101/1   \n",
       "1       2      Speisen     3790             0    2289  101/1   \n",
       "2       2    Getränke      3790             0    2289  101/1   \n",
       "3       2  Undefiniert     3790             0    2289  101/1   \n",
       "4       5    Getränke      3794             0    2292  116/1   \n",
       "\n",
       "                 time  article_number  \n",
       "0 2017-12-31 11:52:00             206  \n",
       "1 2017-12-31 11:52:00             213  \n",
       "2 2017-12-31 11:52:00              56  \n",
       "3 2017-12-31 11:52:00             262  \n",
       "4 2017-12-31 12:18:00             334  "
      ]
     },
     "execution_count": 61,
     "metadata": {},
     "output_type": "execute_result"
    }
   ],
   "source": [
    "df.head()"
   ]
  },
  {
   "cell_type": "code",
   "execution_count": 62,
   "metadata": {},
   "outputs": [],
   "source": [
    "feature_names=['invoice_closed','invoice_opened','guests',\n",
    "               'invoice','cancellation','ticket','table','time']\n",
    "\n",
    "target_name='article_number'"
   ]
  },
  {
   "cell_type": "code",
   "execution_count": 63,
   "metadata": {
    "scrolled": true
   },
   "outputs": [
    {
     "data": {
      "text/plain": [
       "['invoice_closed',\n",
       " 'invoice_opened',\n",
       " 'guests',\n",
       " 'invoice',\n",
       " 'cancellation',\n",
       " 'ticket',\n",
       " 'table',\n",
       " 'time']"
      ]
     },
     "execution_count": 63,
     "metadata": {},
     "output_type": "execute_result"
    }
   ],
   "source": [
    "feature_names"
   ]
  },
  {
   "cell_type": "code",
   "execution_count": 64,
   "metadata": {},
   "outputs": [
    {
     "data": {
      "text/plain": [
       "'article_number'"
      ]
     },
     "execution_count": 64,
     "metadata": {},
     "output_type": "execute_result"
    }
   ],
   "source": [
    "target_name"
   ]
  },
  {
   "cell_type": "code",
   "execution_count": 65,
   "metadata": {},
   "outputs": [],
   "source": [
    "X=df[feature_names]\n",
    "y=df[target_name]"
   ]
  },
  {
   "cell_type": "code",
   "execution_count": 66,
   "metadata": {},
   "outputs": [
    {
     "data": {
      "text/html": [
       "<div>\n",
       "<style scoped>\n",
       "    .dataframe tbody tr th:only-of-type {\n",
       "        vertical-align: middle;\n",
       "    }\n",
       "\n",
       "    .dataframe tbody tr th {\n",
       "        vertical-align: top;\n",
       "    }\n",
       "\n",
       "    .dataframe thead th {\n",
       "        text-align: right;\n",
       "    }\n",
       "</style>\n",
       "<table border=\"1\" class=\"dataframe\">\n",
       "  <thead>\n",
       "    <tr style=\"text-align: right;\">\n",
       "      <th></th>\n",
       "      <th>invoice_closed</th>\n",
       "      <th>invoice_opened</th>\n",
       "      <th>guests</th>\n",
       "      <th>invoice</th>\n",
       "      <th>cancellation</th>\n",
       "      <th>ticket</th>\n",
       "      <th>table</th>\n",
       "      <th>time</th>\n",
       "    </tr>\n",
       "  </thead>\n",
       "  <tbody>\n",
       "    <tr>\n",
       "      <th>0</th>\n",
       "      <td>2017-12-31 12:21:00</td>\n",
       "      <td>2017-12-31 11:52:00</td>\n",
       "      <td>2</td>\n",
       "      <td>3790</td>\n",
       "      <td>0</td>\n",
       "      <td>2289</td>\n",
       "      <td>101/1</td>\n",
       "      <td>2017-12-31 11:52:00</td>\n",
       "    </tr>\n",
       "    <tr>\n",
       "      <th>1</th>\n",
       "      <td>2017-12-31 12:21:00</td>\n",
       "      <td>2017-12-31 11:52:00</td>\n",
       "      <td>2</td>\n",
       "      <td>3790</td>\n",
       "      <td>0</td>\n",
       "      <td>2289</td>\n",
       "      <td>101/1</td>\n",
       "      <td>2017-12-31 11:52:00</td>\n",
       "    </tr>\n",
       "    <tr>\n",
       "      <th>2</th>\n",
       "      <td>2017-12-31 12:21:00</td>\n",
       "      <td>2017-12-31 11:52:00</td>\n",
       "      <td>2</td>\n",
       "      <td>3790</td>\n",
       "      <td>0</td>\n",
       "      <td>2289</td>\n",
       "      <td>101/1</td>\n",
       "      <td>2017-12-31 11:52:00</td>\n",
       "    </tr>\n",
       "    <tr>\n",
       "      <th>3</th>\n",
       "      <td>2017-12-31 12:21:00</td>\n",
       "      <td>2017-12-31 11:52:00</td>\n",
       "      <td>2</td>\n",
       "      <td>3790</td>\n",
       "      <td>0</td>\n",
       "      <td>2289</td>\n",
       "      <td>101/1</td>\n",
       "      <td>2017-12-31 11:52:00</td>\n",
       "    </tr>\n",
       "    <tr>\n",
       "      <th>4</th>\n",
       "      <td>2017-12-31 13:20:00</td>\n",
       "      <td>2017-12-31 12:18:00</td>\n",
       "      <td>5</td>\n",
       "      <td>3794</td>\n",
       "      <td>0</td>\n",
       "      <td>2292</td>\n",
       "      <td>116/1</td>\n",
       "      <td>2017-12-31 12:18:00</td>\n",
       "    </tr>\n",
       "  </tbody>\n",
       "</table>\n",
       "</div>"
      ],
      "text/plain": [
       "       invoice_closed      invoice_opened  guests  invoice  cancellation  \\\n",
       "0 2017-12-31 12:21:00 2017-12-31 11:52:00       2     3790             0   \n",
       "1 2017-12-31 12:21:00 2017-12-31 11:52:00       2     3790             0   \n",
       "2 2017-12-31 12:21:00 2017-12-31 11:52:00       2     3790             0   \n",
       "3 2017-12-31 12:21:00 2017-12-31 11:52:00       2     3790             0   \n",
       "4 2017-12-31 13:20:00 2017-12-31 12:18:00       5     3794             0   \n",
       "\n",
       "   ticket  table                time  \n",
       "0    2289  101/1 2017-12-31 11:52:00  \n",
       "1    2289  101/1 2017-12-31 11:52:00  \n",
       "2    2289  101/1 2017-12-31 11:52:00  \n",
       "3    2289  101/1 2017-12-31 11:52:00  \n",
       "4    2292  116/1 2017-12-31 12:18:00  "
      ]
     },
     "execution_count": 66,
     "metadata": {},
     "output_type": "execute_result"
    }
   ],
   "source": [
    "X.head()"
   ]
  },
  {
   "cell_type": "code",
   "execution_count": 67,
   "metadata": {},
   "outputs": [
    {
     "data": {
      "text/plain": [
       "0    206\n",
       "1    213\n",
       "2     56\n",
       "3    262\n",
       "4    334\n",
       "Name: article_number, dtype: int64"
      ]
     },
     "execution_count": 67,
     "metadata": {},
     "output_type": "execute_result"
    }
   ],
   "source": [
    "y.head()"
   ]
  },
  {
   "cell_type": "code",
   "execution_count": 68,
   "metadata": {},
   "outputs": [],
   "source": [
    "#Split the data into: trainning and testing (cross-validation)\n",
    "from sklearn.model_selection import train_test_split\n",
    "X_train,X_test,y_train,y_test=train_test_split(X,y,test_size=0.2, random_state=123)"
   ]
  },
  {
   "cell_type": "code",
   "execution_count": 69,
   "metadata": {},
   "outputs": [],
   "source": [
    "# Import the estimator object (model)\n",
    "from sklearn.linear_model import LinearRegression"
   ]
  },
  {
   "cell_type": "code",
   "execution_count": 70,
   "metadata": {},
   "outputs": [],
   "source": [
    "#Create an instance of the estimator\n",
    "linear_regression_model=LinearRegression()"
   ]
  },
  {
   "cell_type": "code",
   "execution_count": 71,
   "metadata": {},
   "outputs": [
    {
     "ename": "TypeError",
     "evalue": "invalid type promotion",
     "output_type": "error",
     "traceback": [
      "\u001b[0;31m---------------------------------------------------------------------------\u001b[0m",
      "\u001b[0;31mTypeError\u001b[0m                                 Traceback (most recent call last)",
      "\u001b[0;32m<ipython-input-71-afbe8495cdcd>\u001b[0m in \u001b[0;36m<module>\u001b[0;34m\u001b[0m\n\u001b[1;32m      1\u001b[0m \u001b[0;31m#Use the trainning data to train the estimator\u001b[0m\u001b[0;34m\u001b[0m\u001b[0;34m\u001b[0m\u001b[0;34m\u001b[0m\u001b[0m\n\u001b[0;32m----> 2\u001b[0;31m \u001b[0mlinear_regression_model\u001b[0m\u001b[0;34m.\u001b[0m\u001b[0mfit\u001b[0m\u001b[0;34m(\u001b[0m\u001b[0mX_train\u001b[0m\u001b[0;34m,\u001b[0m\u001b[0my_train\u001b[0m\u001b[0;34m)\u001b[0m\u001b[0;34m\u001b[0m\u001b[0;34m\u001b[0m\u001b[0m\n\u001b[0m",
      "\u001b[0;32m~/opt/anaconda3/lib/python3.8/site-packages/sklearn/linear_model/_base.py\u001b[0m in \u001b[0;36mfit\u001b[0;34m(self, X, y, sample_weight)\u001b[0m\n\u001b[1;32m    503\u001b[0m \u001b[0;34m\u001b[0m\u001b[0m\n\u001b[1;32m    504\u001b[0m         \u001b[0mn_jobs_\u001b[0m \u001b[0;34m=\u001b[0m \u001b[0mself\u001b[0m\u001b[0;34m.\u001b[0m\u001b[0mn_jobs\u001b[0m\u001b[0;34m\u001b[0m\u001b[0;34m\u001b[0m\u001b[0m\n\u001b[0;32m--> 505\u001b[0;31m         X, y = self._validate_data(X, y, accept_sparse=['csr', 'csc', 'coo'],\n\u001b[0m\u001b[1;32m    506\u001b[0m                                    y_numeric=True, multi_output=True)\n\u001b[1;32m    507\u001b[0m \u001b[0;34m\u001b[0m\u001b[0m\n",
      "\u001b[0;32m~/opt/anaconda3/lib/python3.8/site-packages/sklearn/base.py\u001b[0m in \u001b[0;36m_validate_data\u001b[0;34m(self, X, y, reset, validate_separately, **check_params)\u001b[0m\n\u001b[1;32m    430\u001b[0m                 \u001b[0my\u001b[0m \u001b[0;34m=\u001b[0m \u001b[0mcheck_array\u001b[0m\u001b[0;34m(\u001b[0m\u001b[0my\u001b[0m\u001b[0;34m,\u001b[0m \u001b[0;34m**\u001b[0m\u001b[0mcheck_y_params\u001b[0m\u001b[0;34m)\u001b[0m\u001b[0;34m\u001b[0m\u001b[0;34m\u001b[0m\u001b[0m\n\u001b[1;32m    431\u001b[0m             \u001b[0;32melse\u001b[0m\u001b[0;34m:\u001b[0m\u001b[0;34m\u001b[0m\u001b[0;34m\u001b[0m\u001b[0m\n\u001b[0;32m--> 432\u001b[0;31m                 \u001b[0mX\u001b[0m\u001b[0;34m,\u001b[0m \u001b[0my\u001b[0m \u001b[0;34m=\u001b[0m \u001b[0mcheck_X_y\u001b[0m\u001b[0;34m(\u001b[0m\u001b[0mX\u001b[0m\u001b[0;34m,\u001b[0m \u001b[0my\u001b[0m\u001b[0;34m,\u001b[0m \u001b[0;34m**\u001b[0m\u001b[0mcheck_params\u001b[0m\u001b[0;34m)\u001b[0m\u001b[0;34m\u001b[0m\u001b[0;34m\u001b[0m\u001b[0m\n\u001b[0m\u001b[1;32m    433\u001b[0m             \u001b[0mout\u001b[0m \u001b[0;34m=\u001b[0m \u001b[0mX\u001b[0m\u001b[0;34m,\u001b[0m \u001b[0my\u001b[0m\u001b[0;34m\u001b[0m\u001b[0;34m\u001b[0m\u001b[0m\n\u001b[1;32m    434\u001b[0m \u001b[0;34m\u001b[0m\u001b[0m\n",
      "\u001b[0;32m~/opt/anaconda3/lib/python3.8/site-packages/sklearn/utils/validation.py\u001b[0m in \u001b[0;36minner_f\u001b[0;34m(*args, **kwargs)\u001b[0m\n\u001b[1;32m     70\u001b[0m                           FutureWarning)\n\u001b[1;32m     71\u001b[0m         \u001b[0mkwargs\u001b[0m\u001b[0;34m.\u001b[0m\u001b[0mupdate\u001b[0m\u001b[0;34m(\u001b[0m\u001b[0;34m{\u001b[0m\u001b[0mk\u001b[0m\u001b[0;34m:\u001b[0m \u001b[0marg\u001b[0m \u001b[0;32mfor\u001b[0m \u001b[0mk\u001b[0m\u001b[0;34m,\u001b[0m \u001b[0marg\u001b[0m \u001b[0;32min\u001b[0m \u001b[0mzip\u001b[0m\u001b[0;34m(\u001b[0m\u001b[0msig\u001b[0m\u001b[0;34m.\u001b[0m\u001b[0mparameters\u001b[0m\u001b[0;34m,\u001b[0m \u001b[0margs\u001b[0m\u001b[0;34m)\u001b[0m\u001b[0;34m}\u001b[0m\u001b[0;34m)\u001b[0m\u001b[0;34m\u001b[0m\u001b[0;34m\u001b[0m\u001b[0m\n\u001b[0;32m---> 72\u001b[0;31m         \u001b[0;32mreturn\u001b[0m \u001b[0mf\u001b[0m\u001b[0;34m(\u001b[0m\u001b[0;34m**\u001b[0m\u001b[0mkwargs\u001b[0m\u001b[0;34m)\u001b[0m\u001b[0;34m\u001b[0m\u001b[0;34m\u001b[0m\u001b[0m\n\u001b[0m\u001b[1;32m     73\u001b[0m     \u001b[0;32mreturn\u001b[0m \u001b[0minner_f\u001b[0m\u001b[0;34m\u001b[0m\u001b[0;34m\u001b[0m\u001b[0m\n\u001b[1;32m     74\u001b[0m \u001b[0;34m\u001b[0m\u001b[0m\n",
      "\u001b[0;32m~/opt/anaconda3/lib/python3.8/site-packages/sklearn/utils/validation.py\u001b[0m in \u001b[0;36mcheck_X_y\u001b[0;34m(X, y, accept_sparse, accept_large_sparse, dtype, order, copy, force_all_finite, ensure_2d, allow_nd, multi_output, ensure_min_samples, ensure_min_features, y_numeric, estimator)\u001b[0m\n\u001b[1;32m    793\u001b[0m         \u001b[0;32mraise\u001b[0m \u001b[0mValueError\u001b[0m\u001b[0;34m(\u001b[0m\u001b[0;34m\"y cannot be None\"\u001b[0m\u001b[0;34m)\u001b[0m\u001b[0;34m\u001b[0m\u001b[0;34m\u001b[0m\u001b[0m\n\u001b[1;32m    794\u001b[0m \u001b[0;34m\u001b[0m\u001b[0m\n\u001b[0;32m--> 795\u001b[0;31m     X = check_array(X, accept_sparse=accept_sparse,\n\u001b[0m\u001b[1;32m    796\u001b[0m                     \u001b[0maccept_large_sparse\u001b[0m\u001b[0;34m=\u001b[0m\u001b[0maccept_large_sparse\u001b[0m\u001b[0;34m,\u001b[0m\u001b[0;34m\u001b[0m\u001b[0;34m\u001b[0m\u001b[0m\n\u001b[1;32m    797\u001b[0m                     \u001b[0mdtype\u001b[0m\u001b[0;34m=\u001b[0m\u001b[0mdtype\u001b[0m\u001b[0;34m,\u001b[0m \u001b[0morder\u001b[0m\u001b[0;34m=\u001b[0m\u001b[0morder\u001b[0m\u001b[0;34m,\u001b[0m \u001b[0mcopy\u001b[0m\u001b[0;34m=\u001b[0m\u001b[0mcopy\u001b[0m\u001b[0;34m,\u001b[0m\u001b[0;34m\u001b[0m\u001b[0;34m\u001b[0m\u001b[0m\n",
      "\u001b[0;32m~/opt/anaconda3/lib/python3.8/site-packages/sklearn/utils/validation.py\u001b[0m in \u001b[0;36minner_f\u001b[0;34m(*args, **kwargs)\u001b[0m\n\u001b[1;32m     70\u001b[0m                           FutureWarning)\n\u001b[1;32m     71\u001b[0m         \u001b[0mkwargs\u001b[0m\u001b[0;34m.\u001b[0m\u001b[0mupdate\u001b[0m\u001b[0;34m(\u001b[0m\u001b[0;34m{\u001b[0m\u001b[0mk\u001b[0m\u001b[0;34m:\u001b[0m \u001b[0marg\u001b[0m \u001b[0;32mfor\u001b[0m \u001b[0mk\u001b[0m\u001b[0;34m,\u001b[0m \u001b[0marg\u001b[0m \u001b[0;32min\u001b[0m \u001b[0mzip\u001b[0m\u001b[0;34m(\u001b[0m\u001b[0msig\u001b[0m\u001b[0;34m.\u001b[0m\u001b[0mparameters\u001b[0m\u001b[0;34m,\u001b[0m \u001b[0margs\u001b[0m\u001b[0;34m)\u001b[0m\u001b[0;34m}\u001b[0m\u001b[0;34m)\u001b[0m\u001b[0;34m\u001b[0m\u001b[0;34m\u001b[0m\u001b[0m\n\u001b[0;32m---> 72\u001b[0;31m         \u001b[0;32mreturn\u001b[0m \u001b[0mf\u001b[0m\u001b[0;34m(\u001b[0m\u001b[0;34m**\u001b[0m\u001b[0mkwargs\u001b[0m\u001b[0;34m)\u001b[0m\u001b[0;34m\u001b[0m\u001b[0;34m\u001b[0m\u001b[0m\n\u001b[0m\u001b[1;32m     73\u001b[0m     \u001b[0;32mreturn\u001b[0m \u001b[0minner_f\u001b[0m\u001b[0;34m\u001b[0m\u001b[0;34m\u001b[0m\u001b[0m\n\u001b[1;32m     74\u001b[0m \u001b[0;34m\u001b[0m\u001b[0m\n",
      "\u001b[0;32m~/opt/anaconda3/lib/python3.8/site-packages/sklearn/utils/validation.py\u001b[0m in \u001b[0;36mcheck_array\u001b[0;34m(array, accept_sparse, accept_large_sparse, dtype, order, copy, force_all_finite, ensure_2d, allow_nd, ensure_min_samples, ensure_min_features, estimator)\u001b[0m\n\u001b[1;32m    531\u001b[0m \u001b[0;34m\u001b[0m\u001b[0m\n\u001b[1;32m    532\u001b[0m         \u001b[0;32mif\u001b[0m \u001b[0mall\u001b[0m\u001b[0;34m(\u001b[0m\u001b[0misinstance\u001b[0m\u001b[0;34m(\u001b[0m\u001b[0mdtype\u001b[0m\u001b[0;34m,\u001b[0m \u001b[0mnp\u001b[0m\u001b[0;34m.\u001b[0m\u001b[0mdtype\u001b[0m\u001b[0;34m)\u001b[0m \u001b[0;32mfor\u001b[0m \u001b[0mdtype\u001b[0m \u001b[0;32min\u001b[0m \u001b[0mdtypes_orig\u001b[0m\u001b[0;34m)\u001b[0m\u001b[0;34m:\u001b[0m\u001b[0;34m\u001b[0m\u001b[0;34m\u001b[0m\u001b[0m\n\u001b[0;32m--> 533\u001b[0;31m             \u001b[0mdtype_orig\u001b[0m \u001b[0;34m=\u001b[0m \u001b[0mnp\u001b[0m\u001b[0;34m.\u001b[0m\u001b[0mresult_type\u001b[0m\u001b[0;34m(\u001b[0m\u001b[0;34m*\u001b[0m\u001b[0mdtypes_orig\u001b[0m\u001b[0;34m)\u001b[0m\u001b[0;34m\u001b[0m\u001b[0;34m\u001b[0m\u001b[0m\n\u001b[0m\u001b[1;32m    534\u001b[0m \u001b[0;34m\u001b[0m\u001b[0m\n\u001b[1;32m    535\u001b[0m     \u001b[0;32mif\u001b[0m \u001b[0mdtype_numeric\u001b[0m\u001b[0;34m:\u001b[0m\u001b[0;34m\u001b[0m\u001b[0;34m\u001b[0m\u001b[0m\n",
      "\u001b[0;32m<__array_function__ internals>\u001b[0m in \u001b[0;36mresult_type\u001b[0;34m(*args, **kwargs)\u001b[0m\n",
      "\u001b[0;31mTypeError\u001b[0m: invalid type promotion"
     ]
    }
   ],
   "source": [
    "#Use the trainning data to train the estimator\n",
    "linear_regression_model.fit(X_train,y_train)"
   ]
  },
  {
   "cell_type": "code",
   "execution_count": null,
   "metadata": {},
   "outputs": [],
   "source": [
    "# Evaluate the model\n",
    "from sklearn.metrics import mean_squared_error\n",
    "# Get the predictions of the model for the data it has not seen (testing)\n",
    "y_pred_test=linear_regression_model.predict(x_test)\n",
    "#All the metrics compare in some way how close are the predicted vs. the actual values\n",
    "error_metric=mean_squared_error(y_pred=y_pred_test,y_true=y_test)\n",
    "print('The Mean Squqre Error of this model is: ',error_metric)"
   ]
  },
  {
   "cell_type": "code",
   "execution_count": null,
   "metadata": {},
   "outputs": [],
   "source": [
    "fig, ax=plt.subplots()\n",
    "ax.scatter(y_test,y_pred_test)\n",
    "ax.plot(y_test,y_test,color='red')\n",
    "ax.set_xlabel('Testing target values')\n",
    "ax.set_ylabel('Predicted target values')\n",
    "ax.set_title('Predicted vs. Actual values')"
   ]
  },
  {
   "cell_type": "code",
   "execution_count": null,
   "metadata": {},
   "outputs": [],
   "source": [
    "#Make predictions\n",
    "from collections import OrderedDict\n",
    "new_data=OrderedDict([('Time'],2020-11-29)\n",
    "                     ])\n",
    "#.values.reshape(1,-1) because it must be 2-dim, because we passed only one new observation\n",
    "new_data=pd.Series(new_data).values.reshape(1,-1)\n",
    "#Use the model to make predictions\n",
    "linear_regression_model.predict(new_data)"
   ]
  }
 ],
 "metadata": {
  "kernelspec": {
   "display_name": "Python 3",
   "language": "python",
   "name": "python3"
  },
  "language_info": {
   "codemirror_mode": {
    "name": "ipython",
    "version": 3
   },
   "file_extension": ".py",
   "mimetype": "text/x-python",
   "name": "python",
   "nbconvert_exporter": "python",
   "pygments_lexer": "ipython3",
   "version": "3.8.5"
  }
 },
 "nbformat": 4,
 "nbformat_minor": 4
}
