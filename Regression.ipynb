{
 "cells": [
  {
   "cell_type": "code",
   "execution_count": 128,
   "metadata": {},
   "outputs": [],
   "source": [
    "#importing useful libraries\n",
    "\n",
    "import numpy as np\n",
    "import matplotlib.pyplot as plt\n",
    "import pandas as pd"
   ]
  },
  {
   "cell_type": "code",
   "execution_count": 129,
   "metadata": {},
   "outputs": [],
   "source": [
    "#Reading data\n",
    "#from crime_dataset_headers import *\n",
    "#data_url='https://archive.ics.uci.edu/ml/machine-learning-databases/communities/communities.data'\n",
    "#crime=pd.read_csv(data_url, header=None, mames=headers, na_values='?', index_col='communityname')"
   ]
  },
  {
   "cell_type": "code",
   "execution_count": 130,
   "metadata": {
    "scrolled": true
   },
   "outputs": [],
   "source": [
    "#Change path to the file when needed.\n",
    "df=pd.read_csv('C:\\Data\\Hiep(Duc)Project\\POS_data_2018.csv')"
   ]
  },
  {
   "cell_type": "code",
   "execution_count": 131,
   "metadata": {},
   "outputs": [
    {
     "data": {
      "text/html": [
       "<div>\n",
       "<style scoped>\n",
       "    .dataframe tbody tr th:only-of-type {\n",
       "        vertical-align: middle;\n",
       "    }\n",
       "\n",
       "    .dataframe tbody tr th {\n",
       "        vertical-align: top;\n",
       "    }\n",
       "\n",
       "    .dataframe thead th {\n",
       "        text-align: right;\n",
       "    }\n",
       "</style>\n",
       "<table border=\"1\" class=\"dataframe\">\n",
       "  <thead>\n",
       "    <tr style=\"text-align: right;\">\n",
       "      <th></th>\n",
       "      <th>Unnamed: 0</th>\n",
       "      <th>kind</th>\n",
       "      <th>invoice_closed</th>\n",
       "      <th>invoice_opened</th>\n",
       "      <th>guests</th>\n",
       "      <th>group</th>\n",
       "      <th>invoice</th>\n",
       "      <th>cancellation</th>\n",
       "      <th>ticket</th>\n",
       "      <th>table</th>\n",
       "      <th>time</th>\n",
       "      <th>article_number</th>\n",
       "    </tr>\n",
       "  </thead>\n",
       "  <tbody>\n",
       "    <tr>\n",
       "      <th>0</th>\n",
       "      <td>0</td>\n",
       "      <td>Pasta</td>\n",
       "      <td>2017-12-31 12:21:00</td>\n",
       "      <td>2017-12-31 11:52:00</td>\n",
       "      <td>2</td>\n",
       "      <td>Essen</td>\n",
       "      <td>3790</td>\n",
       "      <td>0</td>\n",
       "      <td>2289</td>\n",
       "      <td>101/1</td>\n",
       "      <td>2017-12-31 11:52:00</td>\n",
       "      <td>206</td>\n",
       "    </tr>\n",
       "    <tr>\n",
       "      <th>1</th>\n",
       "      <td>1</td>\n",
       "      <td>Pasta</td>\n",
       "      <td>2017-12-31 12:21:00</td>\n",
       "      <td>2017-12-31 11:52:00</td>\n",
       "      <td>2</td>\n",
       "      <td>Speisen</td>\n",
       "      <td>3790</td>\n",
       "      <td>0</td>\n",
       "      <td>2289</td>\n",
       "      <td>101/1</td>\n",
       "      <td>2017-12-31 11:52:00</td>\n",
       "      <td>213</td>\n",
       "    </tr>\n",
       "    <tr>\n",
       "      <th>2</th>\n",
       "      <td>2</td>\n",
       "      <td>Limonaden</td>\n",
       "      <td>2017-12-31 12:21:00</td>\n",
       "      <td>2017-12-31 11:52:00</td>\n",
       "      <td>2</td>\n",
       "      <td>Getränke</td>\n",
       "      <td>3790</td>\n",
       "      <td>0</td>\n",
       "      <td>2289</td>\n",
       "      <td>101/1</td>\n",
       "      <td>2017-12-31 11:52:00</td>\n",
       "      <td>56</td>\n",
       "    </tr>\n",
       "    <tr>\n",
       "      <th>3</th>\n",
       "      <td>3</td>\n",
       "      <td>Undefiniert</td>\n",
       "      <td>2017-12-31 12:21:00</td>\n",
       "      <td>2017-12-31 11:52:00</td>\n",
       "      <td>2</td>\n",
       "      <td>Undefiniert</td>\n",
       "      <td>3790</td>\n",
       "      <td>0</td>\n",
       "      <td>2289</td>\n",
       "      <td>101/1</td>\n",
       "      <td>2017-12-31 11:52:00</td>\n",
       "      <td>262</td>\n",
       "    </tr>\n",
       "    <tr>\n",
       "      <th>4</th>\n",
       "      <td>4</td>\n",
       "      <td>Weisswein offen</td>\n",
       "      <td>2017-12-31 13:20:00</td>\n",
       "      <td>2017-12-31 12:18:00</td>\n",
       "      <td>5</td>\n",
       "      <td>Getränke</td>\n",
       "      <td>3794</td>\n",
       "      <td>0</td>\n",
       "      <td>2292</td>\n",
       "      <td>116/1</td>\n",
       "      <td>2017-12-31 12:18:00</td>\n",
       "      <td>334</td>\n",
       "    </tr>\n",
       "  </tbody>\n",
       "</table>\n",
       "</div>"
      ],
      "text/plain": [
       "   Unnamed: 0             kind       invoice_closed       invoice_opened  \\\n",
       "0           0            Pasta  2017-12-31 12:21:00  2017-12-31 11:52:00   \n",
       "1           1            Pasta  2017-12-31 12:21:00  2017-12-31 11:52:00   \n",
       "2           2        Limonaden  2017-12-31 12:21:00  2017-12-31 11:52:00   \n",
       "3           3      Undefiniert  2017-12-31 12:21:00  2017-12-31 11:52:00   \n",
       "4           4  Weisswein offen  2017-12-31 13:20:00  2017-12-31 12:18:00   \n",
       "\n",
       "   guests        group  invoice  cancellation  ticket  table  \\\n",
       "0       2        Essen     3790             0    2289  101/1   \n",
       "1       2      Speisen     3790             0    2289  101/1   \n",
       "2       2    Getränke      3790             0    2289  101/1   \n",
       "3       2  Undefiniert     3790             0    2289  101/1   \n",
       "4       5    Getränke      3794             0    2292  116/1   \n",
       "\n",
       "                  time  article_number  \n",
       "0  2017-12-31 11:52:00             206  \n",
       "1  2017-12-31 11:52:00             213  \n",
       "2  2017-12-31 11:52:00              56  \n",
       "3  2017-12-31 11:52:00             262  \n",
       "4  2017-12-31 12:18:00             334  "
      ]
     },
     "execution_count": 131,
     "metadata": {},
     "output_type": "execute_result"
    }
   ],
   "source": [
    "df.head()"
   ]
  },
  {
   "cell_type": "code",
   "execution_count": 132,
   "metadata": {},
   "outputs": [],
   "source": [
    "import datetime as dt\n",
    "def excel_date(dateStr):\n",
    "    time1=dt.datetime.strptime(dateStr,'%Y-%m-%d %H:%M:%S')\n",
    "    time2=dt.datetime(1899,12,30)\n",
    "    delta=time1-time2\n",
    "    return float(delta.days) + (float(delta.seconds)/86400)\n",
    "    "
   ]
  },
  {
   "cell_type": "code",
   "execution_count": 133,
   "metadata": {
    "scrolled": false
   },
   "outputs": [
    {
     "data": {
      "text/plain": [
       "43100.51458333333"
      ]
     },
     "execution_count": 133,
     "metadata": {},
     "output_type": "execute_result"
    }
   ],
   "source": [
    "excel_date('2017-12-31 12:21:00')"
   ]
  },
  {
   "cell_type": "code",
   "execution_count": 134,
   "metadata": {},
   "outputs": [],
   "source": [
    "df['invoice_closed']=pd.to_datetime(df['invoice_closed'])\n",
    "df['invoice_opened']=pd.to_datetime(df['invoice_opened'])\n",
    "df['time']=pd.to_datetime(df['time'])"
   ]
  },
  {
   "cell_type": "code",
   "execution_count": 135,
   "metadata": {
    "scrolled": true
   },
   "outputs": [],
   "source": [
    "df['invoice_closed']=df['invoice_closed'].dt.strftime(\"%Y-%m-%d %H:%M:%S\")\n",
    "df['invoice_opened']=df['invoice_opened'].dt.strftime(\"%Y-%m-%d %H:%M:%S\")\n",
    "df['time']=df['time'].dt.strftime(\"%Y-%m-%d %H:%M:%S\")"
   ]
  },
  {
   "cell_type": "code",
   "execution_count": 136,
   "metadata": {},
   "outputs": [],
   "source": [
    "df['invoice_closed'] = df.apply(lambda x: excel_date(x['invoice_closed']),axis=1)"
   ]
  },
  {
   "cell_type": "code",
   "execution_count": 137,
   "metadata": {},
   "outputs": [],
   "source": [
    "df['invoice_opened'] = df.apply(lambda x: excel_date(x['invoice_opened']),axis=1)"
   ]
  },
  {
   "cell_type": "code",
   "execution_count": 139,
   "metadata": {},
   "outputs": [],
   "source": [
    "df['time'] = df.apply(lambda x: excel_date(x['time']),axis=1)"
   ]
  },
  {
   "cell_type": "code",
   "execution_count": 140,
   "metadata": {
    "scrolled": true
   },
   "outputs": [
    {
     "data": {
      "text/plain": [
       "0    43100.514583\n",
       "1    43100.514583\n",
       "2    43100.514583\n",
       "3    43100.514583\n",
       "4    43100.555556\n",
       "Name: invoice_closed, dtype: float64"
      ]
     },
     "execution_count": 140,
     "metadata": {},
     "output_type": "execute_result"
    }
   ],
   "source": [
    "df['invoice_closed'].head()"
   ]
  },
  {
   "cell_type": "code",
   "execution_count": 151,
   "metadata": {},
   "outputs": [],
   "source": [
    "feature_names=['invoice_closed','invoice_opened','guests',\n",
    "               'invoice','cancellation','ticket','time']\n",
    "\n",
    "target_name='article_number'"
   ]
  },
  {
   "cell_type": "code",
   "execution_count": 152,
   "metadata": {
    "scrolled": true
   },
   "outputs": [
    {
     "data": {
      "text/plain": [
       "['invoice_closed',\n",
       " 'invoice_opened',\n",
       " 'guests',\n",
       " 'invoice',\n",
       " 'cancellation',\n",
       " 'ticket',\n",
       " 'time']"
      ]
     },
     "execution_count": 152,
     "metadata": {},
     "output_type": "execute_result"
    }
   ],
   "source": [
    "feature_names"
   ]
  },
  {
   "cell_type": "code",
   "execution_count": 153,
   "metadata": {},
   "outputs": [
    {
     "data": {
      "text/plain": [
       "'article_number'"
      ]
     },
     "execution_count": 153,
     "metadata": {},
     "output_type": "execute_result"
    }
   ],
   "source": [
    "target_name"
   ]
  },
  {
   "cell_type": "code",
   "execution_count": 154,
   "metadata": {},
   "outputs": [],
   "source": [
    "X=df[feature_names]\n",
    "y=df[target_name]"
   ]
  },
  {
   "cell_type": "code",
   "execution_count": 155,
   "metadata": {},
   "outputs": [
    {
     "data": {
      "text/html": [
       "<div>\n",
       "<style scoped>\n",
       "    .dataframe tbody tr th:only-of-type {\n",
       "        vertical-align: middle;\n",
       "    }\n",
       "\n",
       "    .dataframe tbody tr th {\n",
       "        vertical-align: top;\n",
       "    }\n",
       "\n",
       "    .dataframe thead th {\n",
       "        text-align: right;\n",
       "    }\n",
       "</style>\n",
       "<table border=\"1\" class=\"dataframe\">\n",
       "  <thead>\n",
       "    <tr style=\"text-align: right;\">\n",
       "      <th></th>\n",
       "      <th>invoice_closed</th>\n",
       "      <th>invoice_opened</th>\n",
       "      <th>guests</th>\n",
       "      <th>invoice</th>\n",
       "      <th>cancellation</th>\n",
       "      <th>ticket</th>\n",
       "      <th>time</th>\n",
       "    </tr>\n",
       "  </thead>\n",
       "  <tbody>\n",
       "    <tr>\n",
       "      <th>0</th>\n",
       "      <td>43100.514583</td>\n",
       "      <td>43100.494444</td>\n",
       "      <td>2</td>\n",
       "      <td>3790</td>\n",
       "      <td>0</td>\n",
       "      <td>2289</td>\n",
       "      <td>43100.494444</td>\n",
       "    </tr>\n",
       "    <tr>\n",
       "      <th>1</th>\n",
       "      <td>43100.514583</td>\n",
       "      <td>43100.494444</td>\n",
       "      <td>2</td>\n",
       "      <td>3790</td>\n",
       "      <td>0</td>\n",
       "      <td>2289</td>\n",
       "      <td>43100.494444</td>\n",
       "    </tr>\n",
       "    <tr>\n",
       "      <th>2</th>\n",
       "      <td>43100.514583</td>\n",
       "      <td>43100.494444</td>\n",
       "      <td>2</td>\n",
       "      <td>3790</td>\n",
       "      <td>0</td>\n",
       "      <td>2289</td>\n",
       "      <td>43100.494444</td>\n",
       "    </tr>\n",
       "    <tr>\n",
       "      <th>3</th>\n",
       "      <td>43100.514583</td>\n",
       "      <td>43100.494444</td>\n",
       "      <td>2</td>\n",
       "      <td>3790</td>\n",
       "      <td>0</td>\n",
       "      <td>2289</td>\n",
       "      <td>43100.494444</td>\n",
       "    </tr>\n",
       "    <tr>\n",
       "      <th>4</th>\n",
       "      <td>43100.555556</td>\n",
       "      <td>43100.512500</td>\n",
       "      <td>5</td>\n",
       "      <td>3794</td>\n",
       "      <td>0</td>\n",
       "      <td>2292</td>\n",
       "      <td>43100.512500</td>\n",
       "    </tr>\n",
       "  </tbody>\n",
       "</table>\n",
       "</div>"
      ],
      "text/plain": [
       "   invoice_closed  invoice_opened  guests  invoice  cancellation  ticket  \\\n",
       "0    43100.514583    43100.494444       2     3790             0    2289   \n",
       "1    43100.514583    43100.494444       2     3790             0    2289   \n",
       "2    43100.514583    43100.494444       2     3790             0    2289   \n",
       "3    43100.514583    43100.494444       2     3790             0    2289   \n",
       "4    43100.555556    43100.512500       5     3794             0    2292   \n",
       "\n",
       "           time  \n",
       "0  43100.494444  \n",
       "1  43100.494444  \n",
       "2  43100.494444  \n",
       "3  43100.494444  \n",
       "4  43100.512500  "
      ]
     },
     "execution_count": 155,
     "metadata": {},
     "output_type": "execute_result"
    }
   ],
   "source": [
    "X.head()"
   ]
  },
  {
   "cell_type": "code",
   "execution_count": 156,
   "metadata": {},
   "outputs": [
    {
     "data": {
      "text/plain": [
       "0    206\n",
       "1    213\n",
       "2     56\n",
       "3    262\n",
       "4    334\n",
       "Name: article_number, dtype: int64"
      ]
     },
     "execution_count": 156,
     "metadata": {},
     "output_type": "execute_result"
    }
   ],
   "source": [
    "y.head()"
   ]
  },
  {
   "cell_type": "code",
   "execution_count": 157,
   "metadata": {},
   "outputs": [],
   "source": [
    "#Split the data into: trainning and testing (cross-validation)\n",
    "from sklearn.model_selection import train_test_split\n",
    "X_train,X_test,y_train,y_test=train_test_split(X,y,test_size=0.2, random_state=123)"
   ]
  },
  {
   "cell_type": "code",
   "execution_count": 158,
   "metadata": {},
   "outputs": [],
   "source": [
    "# Import the estimator object (model)\n",
    "from sklearn.linear_model import LinearRegression"
   ]
  },
  {
   "cell_type": "code",
   "execution_count": 159,
   "metadata": {},
   "outputs": [],
   "source": [
    "#Create an instance of the estimator\n",
    "linear_regression_model=LinearRegression()"
   ]
  },
  {
   "cell_type": "code",
   "execution_count": 160,
   "metadata": {},
   "outputs": [
    {
     "data": {
      "text/plain": [
       "LinearRegression()"
      ]
     },
     "execution_count": 160,
     "metadata": {},
     "output_type": "execute_result"
    }
   ],
   "source": [
    "#Use the trainning data to train the estimator\n",
    "linear_regression_model.fit(X_train,y_train)"
   ]
  },
  {
   "cell_type": "code",
   "execution_count": 162,
   "metadata": {},
   "outputs": [
    {
     "name": "stdout",
     "output_type": "stream",
     "text": [
      "The Mean Squqre Error of this model is:  9408.60864518269\n"
     ]
    }
   ],
   "source": [
    "# Evaluate the model\n",
    "from sklearn.metrics import mean_squared_error\n",
    "# Get the predictions of the model for the data it has not seen (testing)\n",
    "y_pred_test=linear_regression_model.predict(X_test)\n",
    "#All the metrics compare in some way how close are the predicted vs. the actual values\n",
    "error_metric=mean_squared_error(y_pred=y_pred_test,y_true=y_test)\n",
    "print('The Mean Squqre Error of this model is: ',error_metric)"
   ]
  },
  {
   "cell_type": "code",
   "execution_count": 163,
   "metadata": {},
   "outputs": [
    {
     "data": {
      "text/plain": [
       "Text(0.5, 1.0, 'Predicted vs. Actual values')"
      ]
     },
     "execution_count": 163,
     "metadata": {},
     "output_type": "execute_result"
    },
    {
     "data": {
      "image/png": "[encoded data removed]",
      "text/plain": [
       "<Figure size 432x288 with 1 Axes>"
      ]
     },
     "metadata": {
      "needs_background": "light"
     },
     "output_type": "display_data"
    }
   ],
   "source": [
    "fig, ax=plt.subplots()\n",
    "ax.scatter(y_test,y_pred_test)\n",
    "ax.plot(y_test,y_test,color='red')\n",
    "ax.set_xlabel('Testing target values')\n",
    "ax.set_ylabel('Predicted target values')\n",
    "ax.set_title('Predicted vs. Actual values')"
   ]
  },
  {
   "cell_type": "code",
   "execution_count": 164,
   "metadata": {},
   "outputs": [
    {
     "data": {
      "text/html": [
       "<div>\n",
       "<style scoped>\n",
       "    .dataframe tbody tr th:only-of-type {\n",
       "        vertical-align: middle;\n",
       "    }\n",
       "\n",
       "    .dataframe tbody tr th {\n",
       "        vertical-align: top;\n",
       "    }\n",
       "\n",
       "    .dataframe thead th {\n",
       "        text-align: right;\n",
       "    }\n",
       "</style>\n",
       "<table border=\"1\" class=\"dataframe\">\n",
       "  <thead>\n",
       "    <tr style=\"text-align: right;\">\n",
       "      <th></th>\n",
       "      <th>invoice_closed</th>\n",
       "      <th>invoice_opened</th>\n",
       "      <th>guests</th>\n",
       "      <th>invoice</th>\n",
       "      <th>cancellation</th>\n",
       "      <th>ticket</th>\n",
       "      <th>time</th>\n",
       "    </tr>\n",
       "  </thead>\n",
       "  <tbody>\n",
       "    <tr>\n",
       "      <th>0</th>\n",
       "      <td>43100.514583</td>\n",
       "      <td>43100.494444</td>\n",
       "      <td>2</td>\n",
       "      <td>3790</td>\n",
       "      <td>0</td>\n",
       "      <td>2289</td>\n",
       "      <td>43100.494444</td>\n",
       "    </tr>\n",
       "    <tr>\n",
       "      <th>1</th>\n",
       "      <td>43100.514583</td>\n",
       "      <td>43100.494444</td>\n",
       "      <td>2</td>\n",
       "      <td>3790</td>\n",
       "      <td>0</td>\n",
       "      <td>2289</td>\n",
       "      <td>43100.494444</td>\n",
       "    </tr>\n",
       "    <tr>\n",
       "      <th>2</th>\n",
       "      <td>43100.514583</td>\n",
       "      <td>43100.494444</td>\n",
       "      <td>2</td>\n",
       "      <td>3790</td>\n",
       "      <td>0</td>\n",
       "      <td>2289</td>\n",
       "      <td>43100.494444</td>\n",
       "    </tr>\n",
       "    <tr>\n",
       "      <th>3</th>\n",
       "      <td>43100.514583</td>\n",
       "      <td>43100.494444</td>\n",
       "      <td>2</td>\n",
       "      <td>3790</td>\n",
       "      <td>0</td>\n",
       "      <td>2289</td>\n",
       "      <td>43100.494444</td>\n",
       "    </tr>\n",
       "    <tr>\n",
       "      <th>4</th>\n",
       "      <td>43100.555556</td>\n",
       "      <td>43100.512500</td>\n",
       "      <td>5</td>\n",
       "      <td>3794</td>\n",
       "      <td>0</td>\n",
       "      <td>2292</td>\n",
       "      <td>43100.512500</td>\n",
       "    </tr>\n",
       "  </tbody>\n",
       "</table>\n",
       "</div>"
      ],
      "text/plain": [
       "   invoice_closed  invoice_opened  guests  invoice  cancellation  ticket  \\\n",
       "0    43100.514583    43100.494444       2     3790             0    2289   \n",
       "1    43100.514583    43100.494444       2     3790             0    2289   \n",
       "2    43100.514583    43100.494444       2     3790             0    2289   \n",
       "3    43100.514583    43100.494444       2     3790             0    2289   \n",
       "4    43100.555556    43100.512500       5     3794             0    2292   \n",
       "\n",
       "           time  \n",
       "0  43100.494444  \n",
       "1  43100.494444  \n",
       "2  43100.494444  \n",
       "3  43100.494444  \n",
       "4  43100.512500  "
      ]
     },
     "execution_count": 164,
     "metadata": {},
     "output_type": "execute_result"
    }
   ],
   "source": [
    "X.head()"
   ]
  },
  {
   "cell_type": "code",
   "execution_count": 165,
   "metadata": {},
   "outputs": [
    {
     "data": {
      "text/plain": [
       "array([182.08330638])"
      ]
     },
     "execution_count": 165,
     "metadata": {},
     "output_type": "execute_result"
    }
   ],
   "source": [
    "#Make predictions\n",
    "from collections import OrderedDict\n",
    "new_data=OrderedDict([('invoice_closed',43100.555556),\n",
    "                      ('invoice_opened',43100.512500),\n",
    "                      ('guests',5),\n",
    "                      ('invoice',3794),\n",
    "                      ('cancellation',0),\n",
    "                      ('ticket',2292),\n",
    "                      ('time',43100.512500)\n",
    "                     ])\n",
    "#.values.reshape(1,-1) because it must be 2-dim, because we passed only one new observation\n",
    "new_data=pd.Series(new_data).values.reshape(1,-1)\n",
    "#Use the model to make predictions\n",
    "linear_regression_model.predict(new_data)"
   ]
  },
  {
   "cell_type": "code",
   "execution_count": 166,
   "metadata": {},
   "outputs": [
    {
     "data": {
      "text/plain": [
       "0    206\n",
       "1    213\n",
       "2     56\n",
       "3    262\n",
       "4    334\n",
       "Name: article_number, dtype: int64"
      ]
     },
     "execution_count": 166,
     "metadata": {},
     "output_type": "execute_result"
    }
   ],
   "source": [
    "y.head()"
   ]
  },
  {
   "cell_type": "code",
   "execution_count": null,
   "metadata": {},
   "outputs": [],
   "source": []
  }
 ],
 "metadata": {
  "kernelspec": {
   "display_name": "Python 3",
   "language": "python",
   "name": "python3"
  },
  "language_info": {
   "codemirror_mode": {
    "name": "ipython",
    "version": 3
   },
   "file_extension": ".py",
   "mimetype": "text/x-python",
   "name": "python",
   "nbconvert_exporter": "python",
   "pygments_lexer": "ipython3",
   "version": "3.8.5"
  }
 },
 "nbformat": 4,
 "nbformat_minor": 4
}
